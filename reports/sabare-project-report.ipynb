{
 "cells": [
  {
   "cell_type": "markdown",
   "metadata": {},
   "source": [
    "## Team Project report\n",
    "### Credit Card Fraud transaction predictor\n",
    "\n",
    "Our team worked on the `SP500 dataset` the previous project, and our linear models were excellent predictors for the next day stock close price. This time we chose to explore a more realistic problem of detecting fraud credit card transactions. While building a model to solve this problem I realize how vital it is to identify, develop and train a model. While banks have the onus to keep customers happy, the technology they use could work againt them. While attempting to build a solid ML solution we understand the most important goal is to keep false-positive and false-negative predictions low."
   ]
  },
  {
   "cell_type": "markdown",
   "metadata": {},
   "source": [
    "### Loading dataset and necessary libraries"
   ]
  },
  {
   "cell_type": "code",
   "execution_count": 1,
   "metadata": {},
   "outputs": [],
   "source": [
    "import itertools\n",
    "import numpy as np\n",
    "import pandas as pd\n",
    "import seaborn as sns\n",
    "import matplotlib.pyplot as plt\n",
    "\n",
    "from sklearn.metrics import recall_score\n",
    "from imblearn.over_sampling import SMOTE\n",
    "from sklearn.calibration import LabelEncoder\n",
    "from sklearn.metrics import confusion_matrix\n",
    "from sklearn.tree import DecisionTreeClassifier\n",
    "from sklearn.preprocessing import StandardScaler\n",
    "from sklearn.ensemble import RandomForestClassifier\n",
    "from sklearn.model_selection import train_test_split\n",
    "\n",
    "CONST_TEST_SIZE = 0.25\n",
    "CONST_FRAUD = 1\n",
    "CONST_VALID = 0\n",
    "\n",
    "## COMMON METHODS\n",
    "#### PLOT CONFUSION MATRIX\n",
    "def plot_confusion_matrix(cm, title, classes, normalize=False, cmap=plt.cm.Blues):\n",
    "    if normalize:\n",
    "        cm = cm.astype('float')/cm.sum(axis=1)[:, np.newaxis]\n",
    "        print(\"Normalized confusion matrix\")\n",
    "    else:\n",
    "        print(\"Confusion matrix, without normalization\")\n",
    "    print(cm)\n",
    "\n",
    "    plt.imshow(cm, interpolation='nearest', cmap=cmap)\n",
    "    plt.title(title)\n",
    "    plt.colorbar()\n",
    "    tick_marks = np.arange(len(classes))\n",
    "    plt.xticks(tick_marks, classes, rotation=0)\n",
    "    plt.yticks(tick_marks, classes)\n",
    "\n",
    "    fmt='.2f' if normalize else 'd'\n",
    "    threshold = cm.max()/2.\n",
    "    for i, j in itertools.product(range(cm.shape[0]), range(cm.shape[1])):\n",
    "        plt.text(j, i, format(cm[i, j], fmt),\n",
    "                 horizontalalignment=\"center\",\n",
    "                 color=\"white\" if cm[i, j]>threshold else \"black\")\n",
    "        \n",
    "    plt.ylabel('TRUE label')\n",
    "    plt.xlabel('PREDICTED label')\n",
    "    plt.tight_layout()\n",
    "\n",
    "#### ENCODE STRING VALUES\n",
    "def stringTransform(columnNames):\n",
    "    label_encoder = LabelEncoder()\n",
    "    for columnName in columnNames:\n",
    "        data_raw[columnName] = label_encoder.fit_transform(data_raw[columnName])\n",
    "\n",
    "## LOADING DATASET\n",
    "data_raw = pd.read_csv('../data/raw/credit-card-transactions.zip')"
   ]
  },
  {
   "cell_type": "markdown",
   "metadata": {},
   "source": [
    "### Exploring data"
   ]
  },
  {
   "cell_type": "code",
   "execution_count": 2,
   "metadata": {},
   "outputs": [
    {
     "data": {
      "text/html": [
       "<div>\n",
       "<style scoped>\n",
       "    .dataframe tbody tr th:only-of-type {\n",
       "        vertical-align: middle;\n",
       "    }\n",
       "\n",
       "    .dataframe tbody tr th {\n",
       "        vertical-align: top;\n",
       "    }\n",
       "\n",
       "    .dataframe thead th {\n",
       "        text-align: right;\n",
       "    }\n",
       "</style>\n",
       "<table border=\"1\" class=\"dataframe\">\n",
       "  <thead>\n",
       "    <tr style=\"text-align: right;\">\n",
       "      <th></th>\n",
       "      <th>Unnamed: 0</th>\n",
       "      <th>trans_date_trans_time</th>\n",
       "      <th>cc_num</th>\n",
       "      <th>merchant</th>\n",
       "      <th>category</th>\n",
       "      <th>amt</th>\n",
       "      <th>first</th>\n",
       "      <th>last</th>\n",
       "      <th>gender</th>\n",
       "      <th>street</th>\n",
       "      <th>...</th>\n",
       "      <th>long</th>\n",
       "      <th>city_pop</th>\n",
       "      <th>job</th>\n",
       "      <th>dob</th>\n",
       "      <th>trans_num</th>\n",
       "      <th>unix_time</th>\n",
       "      <th>merch_lat</th>\n",
       "      <th>merch_long</th>\n",
       "      <th>is_fraud</th>\n",
       "      <th>merch_zipcode</th>\n",
       "    </tr>\n",
       "  </thead>\n",
       "  <tbody>\n",
       "    <tr>\n",
       "      <th>0</th>\n",
       "      <td>0</td>\n",
       "      <td>2019-01-01 00:00:18</td>\n",
       "      <td>2703186189652095</td>\n",
       "      <td>fraud_Rippin, Kub and Mann</td>\n",
       "      <td>misc_net</td>\n",
       "      <td>4.97</td>\n",
       "      <td>Jennifer</td>\n",
       "      <td>Banks</td>\n",
       "      <td>F</td>\n",
       "      <td>561 Perry Cove</td>\n",
       "      <td>...</td>\n",
       "      <td>-81.1781</td>\n",
       "      <td>3495</td>\n",
       "      <td>Psychologist, counselling</td>\n",
       "      <td>1988-03-09</td>\n",
       "      <td>0b242abb623afc578575680df30655b9</td>\n",
       "      <td>1325376018</td>\n",
       "      <td>36.011293</td>\n",
       "      <td>-82.048315</td>\n",
       "      <td>0</td>\n",
       "      <td>28705.0</td>\n",
       "    </tr>\n",
       "    <tr>\n",
       "      <th>1</th>\n",
       "      <td>1</td>\n",
       "      <td>2019-01-01 00:00:44</td>\n",
       "      <td>630423337322</td>\n",
       "      <td>fraud_Heller, Gutmann and Zieme</td>\n",
       "      <td>grocery_pos</td>\n",
       "      <td>107.23</td>\n",
       "      <td>Stephanie</td>\n",
       "      <td>Gill</td>\n",
       "      <td>F</td>\n",
       "      <td>43039 Riley Greens Suite 393</td>\n",
       "      <td>...</td>\n",
       "      <td>-118.2105</td>\n",
       "      <td>149</td>\n",
       "      <td>Special educational needs teacher</td>\n",
       "      <td>1978-06-21</td>\n",
       "      <td>1f76529f8574734946361c461b024d99</td>\n",
       "      <td>1325376044</td>\n",
       "      <td>49.159047</td>\n",
       "      <td>-118.186462</td>\n",
       "      <td>0</td>\n",
       "      <td>NaN</td>\n",
       "    </tr>\n",
       "    <tr>\n",
       "      <th>2</th>\n",
       "      <td>2</td>\n",
       "      <td>2019-01-01 00:00:51</td>\n",
       "      <td>38859492057661</td>\n",
       "      <td>fraud_Lind-Buckridge</td>\n",
       "      <td>entertainment</td>\n",
       "      <td>220.11</td>\n",
       "      <td>Edward</td>\n",
       "      <td>Sanchez</td>\n",
       "      <td>M</td>\n",
       "      <td>594 White Dale Suite 530</td>\n",
       "      <td>...</td>\n",
       "      <td>-112.2620</td>\n",
       "      <td>4154</td>\n",
       "      <td>Nature conservation officer</td>\n",
       "      <td>1962-01-19</td>\n",
       "      <td>a1a22d70485983eac12b5b88dad1cf95</td>\n",
       "      <td>1325376051</td>\n",
       "      <td>43.150704</td>\n",
       "      <td>-112.154481</td>\n",
       "      <td>0</td>\n",
       "      <td>83236.0</td>\n",
       "    </tr>\n",
       "    <tr>\n",
       "      <th>3</th>\n",
       "      <td>3</td>\n",
       "      <td>2019-01-01 00:01:16</td>\n",
       "      <td>3534093764340240</td>\n",
       "      <td>fraud_Kutch, Hermiston and Farrell</td>\n",
       "      <td>gas_transport</td>\n",
       "      <td>45.00</td>\n",
       "      <td>Jeremy</td>\n",
       "      <td>White</td>\n",
       "      <td>M</td>\n",
       "      <td>9443 Cynthia Court Apt. 038</td>\n",
       "      <td>...</td>\n",
       "      <td>-112.1138</td>\n",
       "      <td>1939</td>\n",
       "      <td>Patent attorney</td>\n",
       "      <td>1967-01-12</td>\n",
       "      <td>6b849c168bdad6f867558c3793159a81</td>\n",
       "      <td>1325376076</td>\n",
       "      <td>47.034331</td>\n",
       "      <td>-112.561071</td>\n",
       "      <td>0</td>\n",
       "      <td>NaN</td>\n",
       "    </tr>\n",
       "    <tr>\n",
       "      <th>4</th>\n",
       "      <td>4</td>\n",
       "      <td>2019-01-01 00:03:06</td>\n",
       "      <td>375534208663984</td>\n",
       "      <td>fraud_Keeling-Crist</td>\n",
       "      <td>misc_pos</td>\n",
       "      <td>41.96</td>\n",
       "      <td>Tyler</td>\n",
       "      <td>Garcia</td>\n",
       "      <td>M</td>\n",
       "      <td>408 Bradley Rest</td>\n",
       "      <td>...</td>\n",
       "      <td>-79.4629</td>\n",
       "      <td>99</td>\n",
       "      <td>Dance movement psychotherapist</td>\n",
       "      <td>1986-03-28</td>\n",
       "      <td>a41d7549acf90789359a9aa5346dcb46</td>\n",
       "      <td>1325376186</td>\n",
       "      <td>38.674999</td>\n",
       "      <td>-78.632459</td>\n",
       "      <td>0</td>\n",
       "      <td>22844.0</td>\n",
       "    </tr>\n",
       "  </tbody>\n",
       "</table>\n",
       "<p>5 rows × 24 columns</p>\n",
       "</div>"
      ],
      "text/plain": [
       "   Unnamed: 0 trans_date_trans_time            cc_num  \\\n",
       "0           0   2019-01-01 00:00:18  2703186189652095   \n",
       "1           1   2019-01-01 00:00:44      630423337322   \n",
       "2           2   2019-01-01 00:00:51    38859492057661   \n",
       "3           3   2019-01-01 00:01:16  3534093764340240   \n",
       "4           4   2019-01-01 00:03:06   375534208663984   \n",
       "\n",
       "                             merchant       category     amt      first  \\\n",
       "0          fraud_Rippin, Kub and Mann       misc_net    4.97   Jennifer   \n",
       "1     fraud_Heller, Gutmann and Zieme    grocery_pos  107.23  Stephanie   \n",
       "2                fraud_Lind-Buckridge  entertainment  220.11     Edward   \n",
       "3  fraud_Kutch, Hermiston and Farrell  gas_transport   45.00     Jeremy   \n",
       "4                 fraud_Keeling-Crist       misc_pos   41.96      Tyler   \n",
       "\n",
       "      last gender                        street  ...      long city_pop  \\\n",
       "0    Banks      F                561 Perry Cove  ...  -81.1781     3495   \n",
       "1     Gill      F  43039 Riley Greens Suite 393  ... -118.2105      149   \n",
       "2  Sanchez      M      594 White Dale Suite 530  ... -112.2620     4154   \n",
       "3    White      M   9443 Cynthia Court Apt. 038  ... -112.1138     1939   \n",
       "4   Garcia      M              408 Bradley Rest  ...  -79.4629       99   \n",
       "\n",
       "                                 job         dob  \\\n",
       "0          Psychologist, counselling  1988-03-09   \n",
       "1  Special educational needs teacher  1978-06-21   \n",
       "2        Nature conservation officer  1962-01-19   \n",
       "3                    Patent attorney  1967-01-12   \n",
       "4     Dance movement psychotherapist  1986-03-28   \n",
       "\n",
       "                          trans_num   unix_time  merch_lat  merch_long  \\\n",
       "0  0b242abb623afc578575680df30655b9  1325376018  36.011293  -82.048315   \n",
       "1  1f76529f8574734946361c461b024d99  1325376044  49.159047 -118.186462   \n",
       "2  a1a22d70485983eac12b5b88dad1cf95  1325376051  43.150704 -112.154481   \n",
       "3  6b849c168bdad6f867558c3793159a81  1325376076  47.034331 -112.561071   \n",
       "4  a41d7549acf90789359a9aa5346dcb46  1325376186  38.674999  -78.632459   \n",
       "\n",
       "  is_fraud  merch_zipcode  \n",
       "0        0        28705.0  \n",
       "1        0            NaN  \n",
       "2        0        83236.0  \n",
       "3        0            NaN  \n",
       "4        0        22844.0  \n",
       "\n",
       "[5 rows x 24 columns]"
      ]
     },
     "execution_count": 2,
     "metadata": {},
     "output_type": "execute_result"
    }
   ],
   "source": [
    "## EXPLORING DATA\n",
    "data_raw.head()"
   ]
  },
  {
   "cell_type": "code",
   "execution_count": 3,
   "metadata": {},
   "outputs": [
    {
     "name": "stdout",
     "output_type": "stream",
     "text": [
      "<class 'pandas.core.frame.DataFrame'>\n",
      "RangeIndex: 1296675 entries, 0 to 1296674\n",
      "Data columns (total 24 columns):\n",
      " #   Column                 Non-Null Count    Dtype  \n",
      "---  ------                 --------------    -----  \n",
      " 0   Unnamed: 0             1296675 non-null  int64  \n",
      " 1   trans_date_trans_time  1296675 non-null  object \n",
      " 2   cc_num                 1296675 non-null  int64  \n",
      " 3   merchant               1296675 non-null  object \n",
      " 4   category               1296675 non-null  object \n",
      " 5   amt                    1296675 non-null  float64\n",
      " 6   first                  1296675 non-null  object \n",
      " 7   last                   1296675 non-null  object \n",
      " 8   gender                 1296675 non-null  object \n",
      " 9   street                 1296675 non-null  object \n",
      " 10  city                   1296675 non-null  object \n",
      " 11  state                  1296675 non-null  object \n",
      " 12  zip                    1296675 non-null  int64  \n",
      " 13  lat                    1296675 non-null  float64\n",
      " 14  long                   1296675 non-null  float64\n",
      " 15  city_pop               1296675 non-null  int64  \n",
      " 16  job                    1296675 non-null  object \n",
      " 17  dob                    1296675 non-null  object \n",
      " 18  trans_num              1296675 non-null  object \n",
      " 19  unix_time              1296675 non-null  int64  \n",
      " 20  merch_lat              1296675 non-null  float64\n",
      " 21  merch_long             1296675 non-null  float64\n",
      " 22  is_fraud               1296675 non-null  int64  \n",
      " 23  merch_zipcode          1100702 non-null  float64\n",
      "dtypes: float64(6), int64(6), object(12)\n",
      "memory usage: 237.4+ MB\n"
     ]
    }
   ],
   "source": [
    "## DATA COLUMN DETAILS\n",
    "data_raw.info()"
   ]
  },
  {
   "cell_type": "markdown",
   "metadata": {},
   "source": [
    "- Data standardization is necessary prior to processing them via the model\n",
    "- While facing issues using OneHotEncoder to categorize string/object values, I chose to use StandardScaler.fit_transform to group values and assigning them numbers\n",
    "- Post data pre-preocessing I will use the data correlation heatmap to understand relationship between the features "
   ]
  },
  {
   "cell_type": "code",
   "execution_count": 4,
   "metadata": {},
   "outputs": [
    {
     "name": "stdout",
     "output_type": "stream",
     "text": [
      "<class 'pandas.core.frame.DataFrame'>\n",
      "RangeIndex: 1296675 entries, 0 to 1296674\n",
      "Data columns (total 19 columns):\n",
      " #   Column         Non-Null Count    Dtype  \n",
      "---  ------         --------------    -----  \n",
      " 0   Unnamed: 0     1296675 non-null  int64  \n",
      " 1   cc_num         1296675 non-null  int64  \n",
      " 2   merchant       1296675 non-null  int32  \n",
      " 3   category       1296675 non-null  int32  \n",
      " 4   amt            1296675 non-null  float64\n",
      " 5   gender         1296675 non-null  int32  \n",
      " 6   street         1296675 non-null  int32  \n",
      " 7   city           1296675 non-null  int32  \n",
      " 8   state          1296675 non-null  int32  \n",
      " 9   zip            1296675 non-null  int64  \n",
      " 10  lat            1296675 non-null  float64\n",
      " 11  long           1296675 non-null  float64\n",
      " 12  city_pop       1296675 non-null  int64  \n",
      " 13  job            1296675 non-null  int32  \n",
      " 14  unix_time      1296675 non-null  int64  \n",
      " 15  merch_lat      1296675 non-null  float64\n",
      " 16  merch_long     1296675 non-null  float64\n",
      " 17  is_fraud       1296675 non-null  int64  \n",
      " 18  merch_zipcode  1296675 non-null  int64  \n",
      "dtypes: float64(5), int32(7), int64(7)\n",
      "memory usage: 153.3 MB\n",
      "None\n"
     ]
    }
   ],
   "source": [
    "## PRE_PROCESSING\n",
    "## Fit and transform the string and number columns, and remove redundant data\n",
    "data_raw['fullname'] = data_raw['first'] + ' ' + data_raw['last']\n",
    "stringTransform([\"merchant\", \"merch_zipcode\", \"job\", \"street\", \"city\", \"state\", \"gender\", \"category\", \"fullname\"])\n",
    "data_raw['amt'] = StandardScaler().fit_transform(data_raw['amt'].values.reshape(-1,1))\n",
    "data_raw.drop(columns=['trans_date_trans_time', 'dob', 'trans_num', 'first', 'last', 'fullname'], inplace=True)\n",
    "print(data_raw.info())"
   ]
  },
  {
   "cell_type": "code",
   "execution_count": 5,
   "metadata": {},
   "outputs": [
    {
     "data": {
      "text/plain": [
       "Unnamed: 0       0\n",
       "cc_num           0\n",
       "merchant         0\n",
       "category         0\n",
       "amt              0\n",
       "gender           0\n",
       "street           0\n",
       "city             0\n",
       "state            0\n",
       "zip              0\n",
       "lat              0\n",
       "long             0\n",
       "city_pop         0\n",
       "job              0\n",
       "unix_time        0\n",
       "merch_lat        0\n",
       "merch_long       0\n",
       "is_fraud         0\n",
       "merch_zipcode    0\n",
       "dtype: int64"
      ]
     },
     "execution_count": 5,
     "metadata": {},
     "output_type": "execute_result"
    }
   ],
   "source": [
    "## NULL CHECK\n",
    "data_raw.isnull().sum()"
   ]
  },
  {
   "cell_type": "code",
   "execution_count": 6,
   "metadata": {},
   "outputs": [],
   "source": [
    "## REMOVING DUPES\n",
    "data_raw.drop_duplicates(inplace=True)"
   ]
  },
  {
   "cell_type": "code",
   "execution_count": 7,
   "metadata": {},
   "outputs": [
    {
     "name": "stdout",
     "output_type": "stream",
     "text": [
      "(1296675, 19)\n"
     ]
    }
   ],
   "source": [
    "## VERIFY DATASET SHAPE\n",
    "print(data_raw.shape)"
   ]
  },
  {
   "cell_type": "code",
   "execution_count": 8,
   "metadata": {},
   "outputs": [
    {
     "data": {
      "text/html": [
       "<div>\n",
       "<style scoped>\n",
       "    .dataframe tbody tr th:only-of-type {\n",
       "        vertical-align: middle;\n",
       "    }\n",
       "\n",
       "    .dataframe tbody tr th {\n",
       "        vertical-align: top;\n",
       "    }\n",
       "\n",
       "    .dataframe thead th {\n",
       "        text-align: right;\n",
       "    }\n",
       "</style>\n",
       "<table border=\"1\" class=\"dataframe\">\n",
       "  <thead>\n",
       "    <tr style=\"text-align: right;\">\n",
       "      <th></th>\n",
       "      <th>Unnamed: 0</th>\n",
       "      <th>cc_num</th>\n",
       "      <th>merchant</th>\n",
       "      <th>category</th>\n",
       "      <th>amt</th>\n",
       "      <th>gender</th>\n",
       "      <th>street</th>\n",
       "      <th>city</th>\n",
       "      <th>state</th>\n",
       "      <th>zip</th>\n",
       "      <th>lat</th>\n",
       "      <th>long</th>\n",
       "      <th>city_pop</th>\n",
       "      <th>job</th>\n",
       "      <th>unix_time</th>\n",
       "      <th>merch_lat</th>\n",
       "      <th>merch_long</th>\n",
       "      <th>is_fraud</th>\n",
       "      <th>merch_zipcode</th>\n",
       "    </tr>\n",
       "  </thead>\n",
       "  <tbody>\n",
       "    <tr>\n",
       "      <th>count</th>\n",
       "      <td>1.296675e+06</td>\n",
       "      <td>1.296675e+06</td>\n",
       "      <td>1.296675e+06</td>\n",
       "      <td>1.296675e+06</td>\n",
       "      <td>1.296675e+06</td>\n",
       "      <td>1.296675e+06</td>\n",
       "      <td>1.296675e+06</td>\n",
       "      <td>1.296675e+06</td>\n",
       "      <td>1.296675e+06</td>\n",
       "      <td>1.296675e+06</td>\n",
       "      <td>1.296675e+06</td>\n",
       "      <td>1.296675e+06</td>\n",
       "      <td>1.296675e+06</td>\n",
       "      <td>1.296675e+06</td>\n",
       "      <td>1.296675e+06</td>\n",
       "      <td>1.296675e+06</td>\n",
       "      <td>1.296675e+06</td>\n",
       "      <td>1.296675e+06</td>\n",
       "      <td>1.296675e+06</td>\n",
       "    </tr>\n",
       "    <tr>\n",
       "      <th>mean</th>\n",
       "      <td>6.483370e+05</td>\n",
       "      <td>4.171920e+17</td>\n",
       "      <td>3.428585e+02</td>\n",
       "      <td>6.227787e+00</td>\n",
       "      <td>-9.447052e-18</td>\n",
       "      <td>4.525513e-01</td>\n",
       "      <td>4.880344e+02</td>\n",
       "      <td>4.452633e+02</td>\n",
       "      <td>2.667728e+01</td>\n",
       "      <td>4.880067e+04</td>\n",
       "      <td>3.853762e+01</td>\n",
       "      <td>-9.022634e+01</td>\n",
       "      <td>8.882444e+04</td>\n",
       "      <td>2.511734e+02</td>\n",
       "      <td>1.349244e+09</td>\n",
       "      <td>3.853734e+01</td>\n",
       "      <td>-9.022646e+01</td>\n",
       "      <td>5.788652e-03</td>\n",
       "      <td>1.588147e+04</td>\n",
       "    </tr>\n",
       "    <tr>\n",
       "      <th>std</th>\n",
       "      <td>3.743180e+05</td>\n",
       "      <td>1.308806e+18</td>\n",
       "      <td>2.009519e+02</td>\n",
       "      <td>3.913443e+00</td>\n",
       "      <td>1.000000e+00</td>\n",
       "      <td>4.977437e-01</td>\n",
       "      <td>2.800608e+02</td>\n",
       "      <td>2.586001e+02</td>\n",
       "      <td>1.433098e+01</td>\n",
       "      <td>2.689322e+04</td>\n",
       "      <td>5.075808e+00</td>\n",
       "      <td>1.375908e+01</td>\n",
       "      <td>3.019564e+05</td>\n",
       "      <td>1.401094e+02</td>\n",
       "      <td>1.284128e+07</td>\n",
       "      <td>5.109788e+00</td>\n",
       "      <td>1.377109e+01</td>\n",
       "      <td>7.586269e-02</td>\n",
       "      <td>9.033664e+03</td>\n",
       "    </tr>\n",
       "    <tr>\n",
       "      <th>min</th>\n",
       "      <td>0.000000e+00</td>\n",
       "      <td>6.041621e+10</td>\n",
       "      <td>0.000000e+00</td>\n",
       "      <td>0.000000e+00</td>\n",
       "      <td>-4.325897e-01</td>\n",
       "      <td>0.000000e+00</td>\n",
       "      <td>0.000000e+00</td>\n",
       "      <td>0.000000e+00</td>\n",
       "      <td>0.000000e+00</td>\n",
       "      <td>1.257000e+03</td>\n",
       "      <td>2.002710e+01</td>\n",
       "      <td>-1.656723e+02</td>\n",
       "      <td>2.300000e+01</td>\n",
       "      <td>0.000000e+00</td>\n",
       "      <td>1.325376e+09</td>\n",
       "      <td>1.902779e+01</td>\n",
       "      <td>-1.666712e+02</td>\n",
       "      <td>0.000000e+00</td>\n",
       "      <td>0.000000e+00</td>\n",
       "    </tr>\n",
       "    <tr>\n",
       "      <th>25%</th>\n",
       "      <td>3.241685e+05</td>\n",
       "      <td>1.800429e+14</td>\n",
       "      <td>1.650000e+02</td>\n",
       "      <td>3.000000e+00</td>\n",
       "      <td>-3.786337e-01</td>\n",
       "      <td>0.000000e+00</td>\n",
       "      <td>2.520000e+02</td>\n",
       "      <td>2.240000e+02</td>\n",
       "      <td>1.500000e+01</td>\n",
       "      <td>2.623700e+04</td>\n",
       "      <td>3.462050e+01</td>\n",
       "      <td>-9.679800e+01</td>\n",
       "      <td>7.430000e+02</td>\n",
       "      <td>1.310000e+02</td>\n",
       "      <td>1.338751e+09</td>\n",
       "      <td>3.473357e+01</td>\n",
       "      <td>-9.689728e+01</td>\n",
       "      <td>0.000000e+00</td>\n",
       "      <td>7.892000e+03</td>\n",
       "    </tr>\n",
       "    <tr>\n",
       "      <th>50%</th>\n",
       "      <td>6.483370e+05</td>\n",
       "      <td>3.521417e+15</td>\n",
       "      <td>3.460000e+02</td>\n",
       "      <td>6.000000e+00</td>\n",
       "      <td>-1.424127e-01</td>\n",
       "      <td>0.000000e+00</td>\n",
       "      <td>4.850000e+02</td>\n",
       "      <td>4.390000e+02</td>\n",
       "      <td>2.800000e+01</td>\n",
       "      <td>4.817400e+04</td>\n",
       "      <td>3.935430e+01</td>\n",
       "      <td>-8.747690e+01</td>\n",
       "      <td>2.456000e+03</td>\n",
       "      <td>2.510000e+02</td>\n",
       "      <td>1.349250e+09</td>\n",
       "      <td>3.936568e+01</td>\n",
       "      <td>-8.743839e+01</td>\n",
       "      <td>0.000000e+00</td>\n",
       "      <td>1.567800e+04</td>\n",
       "    </tr>\n",
       "    <tr>\n",
       "      <th>75%</th>\n",
       "      <td>9.725055e+05</td>\n",
       "      <td>4.642255e+15</td>\n",
       "      <td>5.140000e+02</td>\n",
       "      <td>1.000000e+01</td>\n",
       "      <td>7.977349e-02</td>\n",
       "      <td>1.000000e+00</td>\n",
       "      <td>7.200000e+02</td>\n",
       "      <td>6.770000e+02</td>\n",
       "      <td>3.800000e+01</td>\n",
       "      <td>7.204200e+04</td>\n",
       "      <td>4.194040e+01</td>\n",
       "      <td>-8.015800e+01</td>\n",
       "      <td>2.032800e+04</td>\n",
       "      <td>3.740000e+02</td>\n",
       "      <td>1.359385e+09</td>\n",
       "      <td>4.195716e+01</td>\n",
       "      <td>-8.023680e+01</td>\n",
       "      <td>0.000000e+00</td>\n",
       "      <td>2.398100e+04</td>\n",
       "    </tr>\n",
       "    <tr>\n",
       "      <th>max</th>\n",
       "      <td>1.296674e+06</td>\n",
       "      <td>4.992346e+18</td>\n",
       "      <td>6.920000e+02</td>\n",
       "      <td>1.300000e+01</td>\n",
       "      <td>1.801352e+02</td>\n",
       "      <td>1.000000e+00</td>\n",
       "      <td>9.820000e+02</td>\n",
       "      <td>8.930000e+02</td>\n",
       "      <td>5.000000e+01</td>\n",
       "      <td>9.978300e+04</td>\n",
       "      <td>6.669330e+01</td>\n",
       "      <td>-6.795030e+01</td>\n",
       "      <td>2.906700e+06</td>\n",
       "      <td>4.930000e+02</td>\n",
       "      <td>1.371817e+09</td>\n",
       "      <td>6.751027e+01</td>\n",
       "      <td>-6.695090e+01</td>\n",
       "      <td>1.000000e+00</td>\n",
       "      <td>2.833600e+04</td>\n",
       "    </tr>\n",
       "  </tbody>\n",
       "</table>\n",
       "</div>"
      ],
      "text/plain": [
       "         Unnamed: 0        cc_num      merchant      category           amt  \\\n",
       "count  1.296675e+06  1.296675e+06  1.296675e+06  1.296675e+06  1.296675e+06   \n",
       "mean   6.483370e+05  4.171920e+17  3.428585e+02  6.227787e+00 -9.447052e-18   \n",
       "std    3.743180e+05  1.308806e+18  2.009519e+02  3.913443e+00  1.000000e+00   \n",
       "min    0.000000e+00  6.041621e+10  0.000000e+00  0.000000e+00 -4.325897e-01   \n",
       "25%    3.241685e+05  1.800429e+14  1.650000e+02  3.000000e+00 -3.786337e-01   \n",
       "50%    6.483370e+05  3.521417e+15  3.460000e+02  6.000000e+00 -1.424127e-01   \n",
       "75%    9.725055e+05  4.642255e+15  5.140000e+02  1.000000e+01  7.977349e-02   \n",
       "max    1.296674e+06  4.992346e+18  6.920000e+02  1.300000e+01  1.801352e+02   \n",
       "\n",
       "             gender        street          city         state           zip  \\\n",
       "count  1.296675e+06  1.296675e+06  1.296675e+06  1.296675e+06  1.296675e+06   \n",
       "mean   4.525513e-01  4.880344e+02  4.452633e+02  2.667728e+01  4.880067e+04   \n",
       "std    4.977437e-01  2.800608e+02  2.586001e+02  1.433098e+01  2.689322e+04   \n",
       "min    0.000000e+00  0.000000e+00  0.000000e+00  0.000000e+00  1.257000e+03   \n",
       "25%    0.000000e+00  2.520000e+02  2.240000e+02  1.500000e+01  2.623700e+04   \n",
       "50%    0.000000e+00  4.850000e+02  4.390000e+02  2.800000e+01  4.817400e+04   \n",
       "75%    1.000000e+00  7.200000e+02  6.770000e+02  3.800000e+01  7.204200e+04   \n",
       "max    1.000000e+00  9.820000e+02  8.930000e+02  5.000000e+01  9.978300e+04   \n",
       "\n",
       "                lat          long      city_pop           job     unix_time  \\\n",
       "count  1.296675e+06  1.296675e+06  1.296675e+06  1.296675e+06  1.296675e+06   \n",
       "mean   3.853762e+01 -9.022634e+01  8.882444e+04  2.511734e+02  1.349244e+09   \n",
       "std    5.075808e+00  1.375908e+01  3.019564e+05  1.401094e+02  1.284128e+07   \n",
       "min    2.002710e+01 -1.656723e+02  2.300000e+01  0.000000e+00  1.325376e+09   \n",
       "25%    3.462050e+01 -9.679800e+01  7.430000e+02  1.310000e+02  1.338751e+09   \n",
       "50%    3.935430e+01 -8.747690e+01  2.456000e+03  2.510000e+02  1.349250e+09   \n",
       "75%    4.194040e+01 -8.015800e+01  2.032800e+04  3.740000e+02  1.359385e+09   \n",
       "max    6.669330e+01 -6.795030e+01  2.906700e+06  4.930000e+02  1.371817e+09   \n",
       "\n",
       "          merch_lat    merch_long      is_fraud  merch_zipcode  \n",
       "count  1.296675e+06  1.296675e+06  1.296675e+06   1.296675e+06  \n",
       "mean   3.853734e+01 -9.022646e+01  5.788652e-03   1.588147e+04  \n",
       "std    5.109788e+00  1.377109e+01  7.586269e-02   9.033664e+03  \n",
       "min    1.902779e+01 -1.666712e+02  0.000000e+00   0.000000e+00  \n",
       "25%    3.473357e+01 -9.689728e+01  0.000000e+00   7.892000e+03  \n",
       "50%    3.936568e+01 -8.743839e+01  0.000000e+00   1.567800e+04  \n",
       "75%    4.195716e+01 -8.023680e+01  0.000000e+00   2.398100e+04  \n",
       "max    6.751027e+01 -6.695090e+01  1.000000e+00   2.833600e+04  "
      ]
     },
     "execution_count": 8,
     "metadata": {},
     "output_type": "execute_result"
    }
   ],
   "source": [
    "## DATA DESCRIBE\n",
    "data_raw.describe()"
   ]
  },
  {
   "cell_type": "code",
   "execution_count": 9,
   "metadata": {},
   "outputs": [
    {
     "data": {
      "text/plain": [
       "<Axes: >"
      ]
     },
     "execution_count": 9,
     "metadata": {},
     "output_type": "execute_result"
    },
    {
     "data": {
      "image/png": "[encoded data removed]",
      "text/plain": [
       "<Figure size 640x480 with 2 Axes>"
      ]
     },
     "metadata": {},
     "output_type": "display_data"
    }
   ],
   "source": [
    "## DATA CORRELATION HEATMAP\n",
    "corr = data_raw.corr()\n",
    "sns.heatmap(corr, \n",
    "xticklabels=corr.columns.values,\n",
    "yticklabels=corr.columns.values,\n",
    "cmap='viridis')"
   ]
  },
  {
   "cell_type": "markdown",
   "metadata": {},
   "source": [
    "- From the plot above there are clearly a few values the have greater than 75% likehood to predict the outcome\n",
    "- Very few features seem to have zero or negative correlation to a few others, which still doesnt justify deleting them\n",
    "\n",
    "### MODEL\n",
    "- Using the two major classifier models we will try to find the best performer\n",
    "- We will qualify the best performing model based on `recall`, `score` and one with least number of false-negative/false-positves int he heatmap"
   ]
  },
  {
   "cell_type": "code",
   "execution_count": 10,
   "metadata": {},
   "outputs": [],
   "source": [
    "## MODEL INPUT\n",
    "X = data_raw.drop(columns=['is_fraud'])\n",
    "y = data_raw['is_fraud']"
   ]
  },
  {
   "cell_type": "code",
   "execution_count": 11,
   "metadata": {},
   "outputs": [
    {
     "name": "stdout",
     "output_type": "stream",
     "text": [
      "(972506, 18) (324169, 18) (972506,) (324169,)\n"
     ]
    }
   ],
   "source": [
    "## SAMPLE SPLITING\n",
    "X_train, X_test, y_train, y_test = train_test_split(X, y, test_size=CONST_TEST_SIZE)\n",
    "print(X_train.shape, X_test.shape, y_train.shape, y_test.shape)"
   ]
  },
  {
   "cell_type": "code",
   "execution_count": 12,
   "metadata": {},
   "outputs": [
    {
     "name": "stdout",
     "output_type": "stream",
     "text": [
      "Random Forest Classifier score (Test dataset):  0.9973871653365991\n"
     ]
    }
   ],
   "source": [
    "## RANDOM FOREST CLASSIFIER SCORE\n",
    "random_forest = RandomForestClassifier(n_estimators=100)\n",
    "random_forest.fit(X_train, y_train.values.ravel())\n",
    "y_pred = random_forest.predict(X_test)\n",
    "print(\"Random Forest Classifier score (Test dataset): \", random_forest.score(X_test, y_test))"
   ]
  },
  {
   "cell_type": "code",
   "execution_count": 13,
   "metadata": {},
   "outputs": [
    {
     "name": "stdout",
     "output_type": "stream",
     "text": [
      "Confusion matrix, without normalization\n",
      "[[322029    166]\n",
      " [   681   1293]]\n"
     ]
    },
    {
     "data": {
      "image/png": "[encoded data removed]",
      "text/plain": [
       "<Figure size 640x480 with 2 Axes>"
      ]
     },
     "metadata": {},
     "output_type": "display_data"
    }
   ],
   "source": [
    "## RANDOM FOREST CLASSIFIER CONFUSION MATRIX\n",
    "cnf_matrix = confusion_matrix(y_test, y_pred)\n",
    "plot_confusion_matrix(cnf_matrix, \"Random Forest Classifier ConfMatrix (Test dataset)\", classes=[CONST_VALID, CONST_FRAUD])"
   ]
  },
  {
   "cell_type": "code",
   "execution_count": 14,
   "metadata": {},
   "outputs": [
    {
     "name": "stdout",
     "output_type": "stream",
     "text": [
      "Recall (Random Forest): 0.6550151975683891\n"
     ]
    }
   ],
   "source": [
    "## RANDOM FOREST PERFORMANCE: RECALL\n",
    "recall = recall_score(y_test, y_pred)\n",
    "print(f\"Recall (Random Forest): {recall}\")"
   ]
  },
  {
   "cell_type": "code",
   "execution_count": 15,
   "metadata": {},
   "outputs": [
    {
     "name": "stdout",
     "output_type": "stream",
     "text": [
      "Decision Tree Classifier score (Test dataset):  0.9959187954431177\n"
     ]
    }
   ],
   "source": [
    "## DECISION TREE CLASSIFIER SCORE\n",
    "decision_tree = DecisionTreeClassifier()\n",
    "decision_tree.fit(X_train, y_train.values.ravel())\n",
    "y_pred = decision_tree.predict(X_test)\n",
    "print(\"Decision Tree Classifier score (Test dataset): \", decision_tree.score(X_test, y_test))"
   ]
  },
  {
   "cell_type": "code",
   "execution_count": 16,
   "metadata": {},
   "outputs": [
    {
     "name": "stdout",
     "output_type": "stream",
     "text": [
      "Confusion matrix, without normalization\n",
      "[[321540    655]\n",
      " [   668   1306]]\n"
     ]
    },
    {
     "data": {
      "image/png": "[encoded data removed]",
      "text/plain": [
       "<Figure size 640x480 with 2 Axes>"
      ]
     },
     "metadata": {},
     "output_type": "display_data"
    }
   ],
   "source": [
    "## DECISION TREE CLASSIFIER CONFUSION MATRIX\n",
    "cnf_matrix = confusion_matrix(y_test, y_pred)\n",
    "plot_confusion_matrix(cnf_matrix, \"Decision Tree Classifier ConfMatrix (Test dataset)\", classes=[CONST_VALID, CONST_FRAUD])"
   ]
  },
  {
   "cell_type": "code",
   "execution_count": 17,
   "metadata": {},
   "outputs": [
    {
     "name": "stdout",
     "output_type": "stream",
     "text": [
      "Recall (Decision Tree): 0.6616008105369807\n"
     ]
    }
   ],
   "source": [
    "## DECISION TREE PERFORMANCE: RECALL\n",
    "recall = recall_score(y_test, y_pred)\n",
    "print(f\"Recall (Decision Tree): {recall}\")"
   ]
  },
  {
   "cell_type": "code",
   "execution_count": 18,
   "metadata": {},
   "outputs": [
    {
     "name": "stdout",
     "output_type": "stream",
     "text": [
      "Total number of valid transactions:  (1289169, 19)\n",
      "Total number of fraud transactions:  (7506, 19)\n"
     ]
    }
   ],
   "source": [
    "## DATA IMBALANCE\n",
    "data_valid = data_raw[data_raw['is_fraud']==CONST_VALID]\n",
    "print(\"Total number of valid transactions: \", data_valid.shape)\n",
    "data_fraud = data_raw[data_raw['is_fraud']==CONST_FRAUD]\n",
    "print(\"Total number of fraud transactions: \", data_fraud.shape)"
   ]
  },
  {
   "cell_type": "code",
   "execution_count": 19,
   "metadata": {},
   "outputs": [
    {
     "data": {
      "text/plain": [
       "is_fraud\n",
       "0    7506\n",
       "1    7506\n",
       "Name: count, dtype: int64"
      ]
     },
     "execution_count": 19,
     "metadata": {},
     "output_type": "execute_result"
    }
   ],
   "source": [
    "# UNDERSAMPLING\n",
    "data_valid_us = data_valid.sample(n=data_fraud.shape[0])\n",
    "data_undersample = pd.concat([data_valid_us, data_fraud], ignore_index=True)\n",
    "data_undersample.is_fraud.value_counts()"
   ]
  },
  {
   "cell_type": "code",
   "execution_count": 20,
   "metadata": {},
   "outputs": [],
   "source": [
    "# UNDERSAMPLING MODEL INPUT\n",
    "X_us = data_undersample.drop(columns=['is_fraud'])\n",
    "y_us = data_undersample['is_fraud']"
   ]
  },
  {
   "cell_type": "code",
   "execution_count": 21,
   "metadata": {},
   "outputs": [
    {
     "name": "stdout",
     "output_type": "stream",
     "text": [
      "(11259, 18) (3753, 18) (11259,) (3753,)\n"
     ]
    }
   ],
   "source": [
    "# UNDERSAMPLING SPLITING\n",
    "X_train, X_test, y_train, y_test = train_test_split(X_us, y_us, test_size=CONST_TEST_SIZE)\n",
    "print(X_train.shape, X_test.shape, y_train.shape, y_test.shape)"
   ]
  },
  {
   "cell_type": "code",
   "execution_count": 22,
   "metadata": {},
   "outputs": [
    {
     "name": "stdout",
     "output_type": "stream",
     "text": [
      "Random Forest Classifier score (Test dataset):  0.9541699973354649\n"
     ]
    }
   ],
   "source": [
    "# UNDERSAMPLED DATASET RANDOM FOREST\n",
    "random_forest.fit(X_train, y_train.values.ravel())\n",
    "y_pred = random_forest.predict(X_test)\n",
    "print(\"Random Forest Classifier score (Test dataset): \", random_forest.score(X_test, y_test))"
   ]
  },
  {
   "cell_type": "code",
   "execution_count": 23,
   "metadata": {},
   "outputs": [
    {
     "name": "stdout",
     "output_type": "stream",
     "text": [
      "Decision Tree Classifier score (Test dataset):  0.9461763922195577\n"
     ]
    }
   ],
   "source": [
    "# UNDERSAMPLED DATASET DECISION TREE\n",
    "decision_tree.fit(X_train, y_train.values.ravel())\n",
    "y_pred = decision_tree.predict(X_test)\n",
    "print(\"Decision Tree Classifier score (Test dataset): \", decision_tree.score(X_test, y_test))"
   ]
  },
  {
   "cell_type": "code",
   "execution_count": 24,
   "metadata": {},
   "outputs": [
    {
     "data": {
      "text/plain": [
       "is_fraud\n",
       "0    1289169\n",
       "1    1289169\n",
       "Name: count, dtype: int64"
      ]
     },
     "execution_count": 24,
     "metadata": {},
     "output_type": "execute_result"
    }
   ],
   "source": [
    "# OVERSAMPLING\n",
    "X_os, y_os = SMOTE().fit_resample(X, y)\n",
    "pd.Series.value_counts(y_os)"
   ]
  },
  {
   "cell_type": "code",
   "execution_count": 25,
   "metadata": {},
   "outputs": [
    {
     "name": "stdout",
     "output_type": "stream",
     "text": [
      "(1933753, 18) (644585, 18) (1933753,) (644585,)\n"
     ]
    }
   ],
   "source": [
    "# OVERSAMPLING SPLITING\n",
    "X_train, X_test, y_train, y_test = train_test_split(X_os, y_os, test_size=CONST_TEST_SIZE)\n",
    "print(X_train.shape, X_test.shape, y_train.shape, y_test.shape)"
   ]
  },
  {
   "cell_type": "code",
   "execution_count": 26,
   "metadata": {},
   "outputs": [
    {
     "name": "stdout",
     "output_type": "stream",
     "text": [
      "Random Forest Classifier score (Test dataset):  0.9972044028328304\n"
     ]
    }
   ],
   "source": [
    "# OVERSAMPLED DATASET RANDOM FOREST\n",
    "random_forest.fit(X_train, y_train.values.ravel())\n",
    "y_pred = random_forest.predict(X_test)\n",
    "print(\"Random Forest Classifier score (Test dataset): \", random_forest.score(X_test, y_test))"
   ]
  },
  {
   "cell_type": "code",
   "execution_count": 27,
   "metadata": {},
   "outputs": [
    {
     "name": "stdout",
     "output_type": "stream",
     "text": [
      "Confusion matrix, without normalization\n",
      "[[320742   1586]\n",
      " [   216 322041]]\n"
     ]
    },
    {
     "data": {
      "image/png": "[encoded data removed]",
      "text/plain": [
       "<Figure size 640x480 with 2 Axes>"
      ]
     },
     "metadata": {},
     "output_type": "display_data"
    }
   ],
   "source": [
    "## RANDOM FOREST CLASSIFIER CONFUSION MATRIX\n",
    "cnf_matrix = confusion_matrix(y_test, y_pred)\n",
    "plot_confusion_matrix(cnf_matrix, \"Random Forest Classifier ConfMatrix (Test dataset)\", classes=[CONST_VALID, CONST_FRAUD])"
   ]
  },
  {
   "cell_type": "code",
   "execution_count": 28,
   "metadata": {},
   "outputs": [
    {
     "name": "stdout",
     "output_type": "stream",
     "text": [
      "Decision Tree Classifier score (Test dataset):  0.9842053414212245\n"
     ]
    }
   ],
   "source": [
    "# OVERSAMPLED DATASET DECISION TREE\n",
    "decision_tree.fit(X_train, y_train.values.ravel())\n",
    "y_pred = decision_tree.predict(X_test)\n",
    "print(\"Decision Tree Classifier score (Test dataset): \", decision_tree.score(X_test, y_test))"
   ]
  },
  {
   "cell_type": "code",
   "execution_count": 29,
   "metadata": {},
   "outputs": [
    {
     "name": "stdout",
     "output_type": "stream",
     "text": [
      "Confusion matrix, without normalization\n",
      "[[315137   7191]\n",
      " [  2990 319267]]\n"
     ]
    },
    {
     "data": {
      "image/png": "[encoded data removed]",
      "text/plain": [
       "<Figure size 640x480 with 2 Axes>"
      ]
     },
     "metadata": {},
     "output_type": "display_data"
    }
   ],
   "source": [
    "## DECISION TREE CLASSIFIER CONFUSION MATRIX\n",
    "cnf_matrix = confusion_matrix(y_test, y_pred)\n",
    "plot_confusion_matrix(cnf_matrix, \"Decision Tree Classifier ConfMatrix (Test dataset)\", classes=[CONST_VALID, CONST_FRAUD])"
   ]
  },
  {
   "cell_type": "markdown",
   "metadata": {},
   "source": [
    "### Conclusion\n",
    "- Random Forest classifier has outperformed Decision Tree classifier by satisfying all mentioned conditions\n",
    "- Though time consuming `Random Forest` model performed as expected with oversampling\n",
    "- This being a starkly skewed dataset utilizing SMOTE to oversampling yields better results"
   ]
  }
 ],
 "metadata": {
  "kernelspec": {
   "display_name": "dsi_participant",
   "language": "python",
   "name": "python3"
  },
  "language_info": {
   "codemirror_mode": {
    "name": "ipython",
    "version": 3
   },
   "file_extension": ".py",
   "mimetype": "text/x-python",
   "name": "python",
   "nbconvert_exporter": "python",
   "pygments_lexer": "ipython3",
   "version": "3.9.15"
  }
 },
 "nbformat": 4,
 "nbformat_minor": 2
}
